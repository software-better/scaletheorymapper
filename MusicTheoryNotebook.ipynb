{
 "cells": [
  {
   "cell_type": "code",
   "execution_count": 38,
   "metadata": {
    "collapsed": false
   },
   "outputs": [
    {
     "name": "stdout",
     "output_type": "stream",
     "text": [
      "MusicTheoryNotebook.ipynb \u001b[1m\u001b[35m\u001b[40m__pycache__\u001b[m\u001b[m               chromatics.py\r\n",
      "README.md                 blue6.py                  notes.py\r\n"
     ]
    }
   ],
   "source": [
    "!ls\n",
    "#head chromatics.py\n",
    "logging.basicConfig?"
   ]
  },
  {
   "cell_type": "code",
   "execution_count": 47,
   "metadata": {
    "collapsed": false
   },
   "outputs": [],
   "source": [
    "import logging\n",
    "# logging.basicConfig(level=logging.DEBUG, format='%(asctime)s - %(levelname)s - %(message)s')\n",
    "logging.basicConfig(level=logging.BASIC_FORMAT, format='%(message)s')\n",
    "\n",
    "\n",
    "sharpChromaticScales = {\n",
    "\t'C#' : ['C#', 'D', 'D#', 'E', 'F', 'F#', 'G', 'G#','A','A#','B', 'C', 'C#'],\n",
    "\t'D' : ['D', 'D#', 'E', 'F', 'F#', 'G', 'G#','A','A#','B', 'C', 'C#', 'D'],\n",
    "\t'D#' : ['D#', 'E', 'F', 'F#', 'G', 'G#','A','A#','B', 'C', 'C#', 'D', 'D#'],\n",
    "\t'E' : ['E', 'F', 'F#', 'G', 'G#','A','A#','B', 'C', 'C#', 'D', 'D#', 'E'],\n",
    "\t'F#' : ['F#', 'G', 'G#','A','A#','B', 'C', 'C#', 'D', 'D#', 'E', 'F', 'F#'],\n",
    "\t'G' : ['G','G#','A','A#','B', 'C', 'C#', 'D', 'D#', 'E', 'F', 'F#', 'G'],\n",
    "\t'G#' : ['G#','A','A#','B', 'C', 'C#', 'D', 'D#', 'E', 'F', 'F#', 'G', 'G#'],\n",
    "\t'A' : ['A','A#','B', 'C', 'C#', 'D', 'D#', 'E', 'F', 'F#', 'G', 'G#','A'],\n",
    "\t'A#' : ['A#','B', 'C', 'C#', 'D', 'D#', 'E', 'F', 'F#', 'G', 'G#','A','A#'],\n",
    "\t'B' : ['B','C', 'C#', 'D', 'D#', 'E', 'F', 'F#', 'G', 'G#','A','A#','B'],\n",
    "}\n",
    "\n",
    "flatChromaticScales = {\n",
    "\t'C' : ['C', 'Db', 'D', 'Eb', 'E', 'F', 'Gb', 'G', 'Ab','A','Bb','B','C'],\n",
    "\t'Db' : ['Db', 'D', 'Eb', 'E', 'F', 'Gb', 'G', 'Ab','A','Bb','B', 'C', 'Db'],\n",
    "\t'Eb' : ['Eb', 'E', 'F', 'Gb', 'G', 'Ab','A','Bb','B', 'C', 'Db', 'D', 'Eb'],\n",
    "\t'F' : ['F','Gb', 'G', 'Ab','A','Bb','B', 'C', 'Db','D', 'Eb', 'E', 'F'],\n",
    "\t'Gb' : ['Gb', 'G', 'Ab','A','Bb','B', 'C', 'Db', 'D', 'Eb', 'E', 'F', 'Gb'],\n",
    "\t'Ab' : ['Ab','A','Bb','B', 'C', 'Db', 'D', 'Eb', 'E', 'F', 'Gb', 'G', 'Ab'],\n",
    "\t'Bb' : ['Bb','B', 'C', 'Db', 'D', 'Eb', 'E', 'F', 'Gb', 'G', 'Ab','A','Bb'],\n",
    "\t# 'C' : ['C','C#', 'D', 'D#', 'E', 'F', 'F#', 'G', 'G#','A','A#','B', 'C'],\n",
    "}\n",
    "\n",
    "scales = {\n",
    "\t'major': [0, 2, 4, 5, 7, 9, 11, 12],\n",
    "\t'minor': [0, 2, 3, 5, 7, 8, 10, 12],\n",
    "\t'hexBlues': [0, 3, 5, 6, 7, 10, 12],\n",
    "\t'pentMajor': [0, 2, 4, 7, 9, 12],\n",
    "\t'pentMinor': [0, 3, 5, 7, 10, 12],\n",
    "}\n",
    "\n",
    "def findNotes(key):\n",
    "\tL = []\n",
    "\tif key in flatChromaticScales.keys():\n",
    "\t\tL = flatChromaticScales[key]\n",
    "\tif key  in sharpChromaticScales.keys():\n",
    "\t\tL = sharpChromaticScales[key]\n",
    "\treturn L\n",
    "\n",
    "\n",
    "def showScaleNotes(scale='major', key='C'):\n",
    "\tresult = []\n",
    "\tkeyScaleNotes = findNotes(key)\n",
    "\tfor i in scales[scale]:\n",
    "\t\tresult.append(keyScaleNotes[i])\n",
    "# \tlogging.info(key + \"-\" + scale + \" : \" + str(result))\n",
    "\treturn result"
   ]
  },
  {
   "cell_type": "code",
   "execution_count": 48,
   "metadata": {
    "collapsed": false
   },
   "outputs": [],
   "source": [
    "#cat notes.py"
   ]
  },
  {
   "cell_type": "code",
   "execution_count": 49,
   "metadata": {
    "collapsed": false
   },
   "outputs": [
    {
     "name": "stdout",
     "output_type": "stream",
     "text": [
      "C-major - ['C', 'D', 'E', 'F', 'G', 'A', 'B', 'C']\n",
      "C-minor - ['C', 'D', 'Eb', 'F', 'G', 'Ab', 'Bb', 'C']\n",
      "C-pentMajor - ['C', 'D', 'E', 'G', 'A', 'C']\n",
      "C-pentMinor - ['C', 'Eb', 'F', 'G', 'Bb', 'C']\n",
      "C-hexBlues - ['C', 'Eb', 'F', 'Gb', 'G', 'Bb', 'C']\n",
      "D-major - ['D', 'E', 'F#', 'G', 'A', 'B', 'C#', 'D']\n",
      "D-minor - ['D', 'E', 'F', 'G', 'A', 'A#', 'C', 'D']\n",
      "D-pentMajor - ['D', 'E', 'F#', 'A', 'B', 'D']\n",
      "D-pentMinor - ['D', 'F', 'G', 'A', 'C', 'D']\n",
      "D-hexBlues - ['D', 'F', 'G', 'G#', 'A', 'C', 'D']\n",
      "E-major - ['E', 'F#', 'G#', 'A', 'B', 'C#', 'D#', 'E']\n",
      "E-minor - ['E', 'F#', 'G', 'A', 'B', 'C', 'D', 'E']\n",
      "E-pentMajor - ['E', 'F#', 'G#', 'B', 'C#', 'E']\n",
      "E-pentMinor - ['E', 'G', 'A', 'B', 'D', 'E']\n",
      "E-hexBlues - ['E', 'G', 'A', 'A#', 'B', 'D', 'E']\n",
      "F-major - ['F', 'G', 'A', 'Bb', 'C', 'D', 'E', 'F']\n",
      "F-minor - ['F', 'G', 'Ab', 'Bb', 'C', 'Db', 'Eb', 'F']\n",
      "F-pentMajor - ['F', 'G', 'A', 'C', 'D', 'F']\n",
      "F-pentMinor - ['F', 'Ab', 'Bb', 'C', 'Eb', 'F']\n",
      "F-hexBlues - ['F', 'Ab', 'Bb', 'B', 'C', 'Eb', 'F']\n",
      "G-major - ['G', 'A', 'B', 'C', 'D', 'E', 'F#', 'G']\n",
      "G-minor - ['G', 'A', 'A#', 'C', 'D', 'D#', 'F', 'G']\n",
      "G-pentMajor - ['G', 'A', 'B', 'D', 'E', 'G']\n",
      "G-pentMinor - ['G', 'A#', 'C', 'D', 'F', 'G']\n",
      "G-hexBlues - ['G', 'A#', 'C', 'C#', 'D', 'F', 'G']\n",
      "A-major - ['A', 'B', 'C#', 'D', 'E', 'F#', 'G#', 'A']\n",
      "A-minor - ['A', 'B', 'C', 'D', 'E', 'F', 'G', 'A']\n",
      "A-pentMajor - ['A', 'B', 'C#', 'E', 'F#', 'A']\n",
      "A-pentMinor - ['A', 'C', 'D', 'E', 'G', 'A']\n",
      "A-hexBlues - ['A', 'C', 'D', 'D#', 'E', 'G', 'A']\n",
      "B-major - ['B', 'C#', 'D#', 'E', 'F#', 'G#', 'A#', 'B']\n",
      "B-minor - ['B', 'C#', 'D', 'E', 'F#', 'G', 'A', 'B']\n",
      "B-pentMajor - ['B', 'C#', 'D#', 'F#', 'G#', 'B']\n",
      "B-pentMinor - ['B', 'D', 'E', 'F#', 'A', 'B']\n",
      "B-hexBlues - ['B', 'D', 'E', 'F', 'F#', 'A', 'B']\n"
     ]
    }
   ],
   "source": [
    "# import chromatics as c\n",
    "\n",
    "# for i in ['C', 'D', 'E', 'F', 'G', 'A', 'B']:\n",
    "# \tc.showScaleNotes(scale='major', key=i)\n",
    "# \tc.showScaleNotes(scale='minor', key=i)\n",
    "# \tc.showScaleNotes(scale='pentMajor', key=i)\n",
    "# \tc.showScaleNotes(scale='pentMinor', key=i)\n",
    "# \tc.showScaleNotes(scale='hexBlues', key=i)\n",
    "\n",
    "\n",
    "for i in ['C', 'D', 'E', 'F', 'G', 'A', 'B']:\n",
    "\tprint(i + \"-\" + 'major - ' + str(showScaleNotes(scale='major', key=i)))\n",
    "\tprint(i + \"-\" + 'minor - ' + str(showScaleNotes(scale='minor', key=i)))\n",
    "\tprint(i + \"-\" + 'pentMajor - ' + str(showScaleNotes(scale='pentMajor', key=i)))\n",
    "\tprint(i + \"-\" + 'pentMinor - ' + str(showScaleNotes(scale='pentMinor', key=i)))\n",
    "\tprint(i + \"-\" + 'hexBlues - ' + str(showScaleNotes(scale='hexBlues', key=i)))"
   ]
  },
  {
   "cell_type": "code",
   "execution_count": null,
   "metadata": {
    "collapsed": true
   },
   "outputs": [],
   "source": []
  }
 ],
 "metadata": {
  "kernelspec": {
   "display_name": "Python 3",
   "language": "python",
   "name": "python3"
  },
  "language_info": {
   "codemirror_mode": {
    "name": "ipython",
    "version": 3
   },
   "file_extension": ".py",
   "mimetype": "text/x-python",
   "name": "python",
   "nbconvert_exporter": "python",
   "pygments_lexer": "ipython3",
   "version": "3.6.0"
  }
 },
 "nbformat": 4,
 "nbformat_minor": 2
}
